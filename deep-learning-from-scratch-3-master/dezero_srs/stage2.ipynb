{
 "cells": [
  {
   "cell_type": "code",
   "execution_count": 1,
   "id": "d0b54931",
   "metadata": {},
   "outputs": [],
   "source": [
    "import numpy as np\n",
    "import weakref"
   ]
  },
  {
   "cell_type": "code",
   "execution_count": 2,
   "id": "167ffa46",
   "metadata": {},
   "outputs": [],
   "source": [
    "class Variable:\n",
    "    \"\"\"ステップ１のVariableクラスを変更\"\"\"\n",
    "    __array_priority__ = 200\n",
    "    def __init__(self, data, name=None):\n",
    "        if data is not None: # dataがNoneでなく\n",
    "            if not isinstance(data, np.ndarray): # ndarrayインスタンスでもない場合\n",
    "                raise TypeError(\"{} is not supported\".formatf(type(data)))\n",
    "        self.data = data\n",
    "        self.name = name # 変数に名前を付ける\n",
    "        self.grad = None\n",
    "        self.creator = None # 変数視点では関数は生みの親（creator）\n",
    "        self.generation = 0\n",
    "    \n",
    "    def set_creator(self, func):\n",
    "        \"\"\"creatorを設定\"\"\"\n",
    "        self.creator = func \n",
    "        self.generation = func.generation + 1\n",
    "\n",
    "    def backward(self, retain_grad=False):\n",
    "        if self.grad is None:\n",
    "            self.grad = np.ones_like(self.data) # 逆伝播の最初の勾配1を生成\n",
    "            \n",
    "        funcs = []\n",
    "        \n",
    "        seen_set = set()\n",
    "        \n",
    "        def add_func(f):\n",
    "            if f not in seen_set:\n",
    "                funcs.append(f)\n",
    "                seen_set.add(f)\n",
    "                funcs.sort(key=lambda x: x.generation)\n",
    "            \n",
    "        add_func(self.creator)\n",
    "        \n",
    "        while funcs:\n",
    "            f = funcs.pop() # 1.関数を取得\n",
    "            gys = [output().grad for output in f.outputs]\n",
    "            gxs = f.backward(*gys)\n",
    "            if not isinstance(gxs, tuple):\n",
    "                gxs = (gxs,)\n",
    "            for x, gx in zip(f.inputs, gxs):\n",
    "                if x.grad is None:\n",
    "                    x.grad = gx\n",
    "                else:\n",
    "                    x.grad = x.grad + gx\n",
    "                \n",
    "                if x.creator is not None:\n",
    "                    add_func(x.creator)\n",
    "                \n",
    "                if not retain_grad:\n",
    "                    for y in f.outputs:\n",
    "                        y().grad=None\n",
    "            \n",
    "            \"\"\"x, y = f.input, f.output # 2.関数の入出力を取得\n",
    "            x.grad = f.backward(y.grad)\n",
    "            \n",
    "            if x.creator is  not None:\n",
    "                funcs.append(x.creator) # 4.自分より一つ前の変数のbackwardメソッドをリストに追加\"\"\"\n",
    "            \n",
    "    def cleargrad(self):\n",
    "            self.grad = None\n",
    "        \n",
    "    @property # メソッドをインスタンス変数として扱える\n",
    "    def shape(self):\n",
    "        \"\"\"多次元配列の形状を取得\"\"\"\n",
    "        return self.data.shape\n",
    "    \n",
    "    @property \n",
    "    def ndim(self):\n",
    "        \"\"\"次元数を取得\"\"\"\n",
    "        return self.data.ndim\n",
    "    \n",
    "    @property \n",
    "    def size(self):\n",
    "        \"\"\"要素数を取得\"\"\"\n",
    "        return self.data.size\n",
    "    \n",
    "    @property \n",
    "    def dtype(self):\n",
    "        \"\"\"データ型を取得\"\"\"\n",
    "        return self.data.dtype\n",
    "    \n",
    "    def __len__(self):\n",
    "        return len(self.data)\n",
    "    \n",
    "    def __repr__(self):\n",
    "        if self.data is None:\n",
    "            return \"variable(None)\"\n",
    "        p = str(self.data).replace(\"\\n\", \"\\n\" + \" \" * 9)\n",
    "        return \"variable(\" + p + \")\"\n",
    "    \n",
    "    \"\"\"def __mul__(self, other):\n",
    "        return mul(self, other)\"\"\""
   ]
  },
  {
   "cell_type": "code",
   "execution_count": 3,
   "id": "c8ebdb32",
   "metadata": {},
   "outputs": [],
   "source": [
    "class Function:\n",
    "    \"\"\"\n",
    "    ステップ２のFunctionクラスを変更\n",
    "    新たに\n",
    "    ・微分を行う逆伝播の機能\n",
    "    ・forwardメソッドを呼ぶ際に，入力されたVariableインスタンスを保持する機能\n",
    "    \"\"\"\n",
    "    def __call__(self, *inputs):# f=Function()としたとき，f(...)と書くことでメソッドを呼び出せる\n",
    "        inputs = [as_variable(x) for x in inputs]\n",
    "        xs = [x.data for x in inputs]\n",
    "        ys = self.forward(*xs)\n",
    "        if not isinstance(ys, tuple):\n",
    "            ys = (ys,)\n",
    "        outputs = [Variable(as_array(y)) for y in ys] # ndarrayとして返す\n",
    "        \n",
    "        # 逆伝播に用いる情報を記憶\n",
    "        if Config.enable_backprop: # 逆伝播モードがオンの時だけ逆伝播に用いるコードを実行\n",
    "            self.generation = max([x.generation for x in inputs])\n",
    "            for output in outputs:\n",
    "                output.set_creator(self) # 出力変数に生みの親を覚えさせる\n",
    "            self.inputs = inputs # 入力された変数を覚える\n",
    "            self.outputs = [weakref.ref(output) for output in outputs] # 出力も覚える\n",
    "        return outputs if len(outputs) > 1 else outputs[0]\n",
    "    \n",
    "    def forward(self, x):\n",
    "        raise NotImplementedError() # このメソッドは継承して実装すべきことをアピール\n",
    "    \n",
    "    def backward(self, gy):\n",
    "        raise NotImplementedError() "
   ]
  },
  {
   "cell_type": "code",
   "execution_count": 4,
   "id": "3df4f2c3",
   "metadata": {},
   "outputs": [],
   "source": [
    "class Square(Function):\n",
    "    \"\"\"backwardメソッドを追加\"\"\"\n",
    "    def forward(self, x):\n",
    "        return x ** 2\n",
    "    \n",
    "    def backward(self, gy):\n",
    "        x = self.inputs[0].data\n",
    "        gx = 2 * x * gy\n",
    "        return gx\n",
    "    \n",
    "\n",
    "class Exp(Function):\n",
    "    \"\"\"backwardメソッドを追加\"\"\"\n",
    "    def forward(self, x):\n",
    "        return np.exp(x)\n",
    "    \n",
    "    def backward(self, gy):\n",
    "        x = self.input.data\n",
    "        gx = np.exp(x) * gy\n",
    "        return gx\n",
    "    \n",
    "def square(x):\n",
    "    return Square()(x)\n",
    "\n",
    "def exp(x):\n",
    "    return Exp()(x)"
   ]
  },
  {
   "cell_type": "code",
   "execution_count": 5,
   "id": "210c1e8e",
   "metadata": {},
   "outputs": [],
   "source": [
    "def as_array(x):\n",
    "    if np.isscalar(x):\n",
    "        return np.array(x)\n",
    "    return x"
   ]
  },
  {
   "cell_type": "markdown",
   "id": "a283786d",
   "metadata": {},
   "source": [
    "# ステップ18 逆伝播の有効モードと無効モードの切り替え"
   ]
  },
  {
   "cell_type": "code",
   "execution_count": 6,
   "id": "7754759b",
   "metadata": {},
   "outputs": [],
   "source": [
    "class Config:\n",
    "    enable_backprop = True"
   ]
  },
  {
   "cell_type": "code",
   "execution_count": 7,
   "id": "620b59ad",
   "metadata": {},
   "outputs": [],
   "source": [
    "import contextlib\n",
    "\n",
    "@contextlib.contextmanager\n",
    "def using_config(name, value):\n",
    "    # yieldの前で前処理\n",
    "    old_value = getattr(Config, name)\n",
    "    setattr(Config, name, value)\n",
    "    try:\n",
    "        yield\n",
    "     # yieldの後ろで後処理\n",
    "    finally:\n",
    "        setattr(Config, name, old_value)"
   ]
  },
  {
   "cell_type": "code",
   "execution_count": 8,
   "id": "502aa1df",
   "metadata": {},
   "outputs": [],
   "source": [
    "def no_grad():\n",
    "    return using_config(\"enable_backprop\", False)"
   ]
  },
  {
   "cell_type": "markdown",
   "id": "8af60f1b",
   "metadata": {},
   "source": [
    "# ステップ20　演算子のオーバーロード"
   ]
  },
  {
   "cell_type": "code",
   "execution_count": 9,
   "id": "531b42cc",
   "metadata": {},
   "outputs": [],
   "source": [
    "class Add(Function):\n",
    "    def forward(self, x0, x1):\n",
    "        y = x0 + x1\n",
    "        return y\n",
    "    \n",
    "    def backward(self, gy):\n",
    "        return gy, gy\n",
    "    \n",
    "def add(x0, x1):\n",
    "    x1 = as_array(x1)\n",
    "    return Add()(x0, x1)\n",
    "\n",
    "class Mul(Function):\n",
    "    def forward(self, x0, x1):\n",
    "        y = x0 * x1\n",
    "        return y\n",
    "    \n",
    "    def backward(self, gy):\n",
    "        x0, x1 = self.inputs[0].data, self.inputs[1].data\n",
    "        return gy * x1, gy * x0\n",
    "    \n",
    "def mul(x0, x1):\n",
    "    return Mul()(x0, x1)"
   ]
  },
  {
   "cell_type": "code",
   "execution_count": 10,
   "id": "af5cebbd",
   "metadata": {},
   "outputs": [],
   "source": [
    "def as_variable(obj):\n",
    "    if isinstance(obj, Variable):\n",
    "        return obj\n",
    "    return Variable(obj)\n",
    "\"\"\"+, * の計算で関数を呼び出せる\"\"\"\n",
    "Variable.__add__ = add\n",
    "Variable.__radd__ = add\n",
    "Variable.__mul__ = mul\n",
    "Variable.__rmul__ = mul"
   ]
  },
  {
   "cell_type": "code",
   "execution_count": 11,
   "id": "3c964cfe",
   "metadata": {},
   "outputs": [],
   "source": [
    "with no_grad():\n",
    "    # 勾配を使わないときはno_grad()の中で実行する\n",
    "    x = Variable(np.array(2.0))\n",
    "    y = square(x)"
   ]
  },
  {
   "cell_type": "code",
   "execution_count": 12,
   "id": "b495e5ac",
   "metadata": {},
   "outputs": [
    {
     "data": {
      "text/plain": [
       "variable([6.])"
      ]
     },
     "execution_count": 12,
     "metadata": {},
     "output_type": "execute_result"
    }
   ],
   "source": [
    "x = Variable(np.array([3.0]))\n",
    "y = np.array([3.0]) + x\n",
    "y"
   ]
  },
  {
   "cell_type": "markdown",
   "id": "0ef9259a",
   "metadata": {},
   "source": [
    "# ステップ24 複雑な関数の実装"
   ]
  },
  {
   "cell_type": "code",
   "execution_count": 14,
   "id": "b92d9fc3",
   "metadata": {},
   "outputs": [],
   "source": [
    "from dezero import Variable"
   ]
  },
  {
   "cell_type": "code",
   "execution_count": 15,
   "id": "f118f890",
   "metadata": {},
   "outputs": [],
   "source": [
    "def sphere(x, y):\n",
    "    z = x ** 2 + y ** 2\n",
    "    return z\n",
    "\n",
    "\n",
    "def matyas(x, y):\n",
    "    z = 0.26 * (x ** 2 + y ** 2) - 0.48 * x * y\n",
    "    return z\n",
    "\n",
    "\n",
    "def goldstein(x, y):\n",
    "    z = (1 + (x + y + 1)**2 * (19 - 14*x + 3*x**2 - 14*y + 6*x*y + 3*y**2)) * \\\n",
    "        (30 + (2*x - 3*y)**2 * (18 - 32*x + 12*x**2 + 48*y - 36*x*y + 27*y**2))\n",
    "    return z"
   ]
  },
  {
   "cell_type": "code",
   "execution_count": 16,
   "id": "2efb2b07",
   "metadata": {},
   "outputs": [
    {
     "name": "stdout",
     "output_type": "stream",
     "text": [
      "-5376.0 8064.0\n"
     ]
    }
   ],
   "source": [
    "x = Variable(np.array(1.0))\n",
    "y = Variable(np.array(1.0))\n",
    "z = goldstein(x, y)  # sphere(x, y) / matyas(x, y)\n",
    "z.backward()\n",
    "print(x.grad, y.grad)"
   ]
  }
 ],
 "metadata": {
  "kernelspec": {
   "display_name": "Python 3",
   "language": "python",
   "name": "python3"
  },
  "language_info": {
   "codemirror_mode": {
    "name": "ipython",
    "version": 3
   },
   "file_extension": ".py",
   "mimetype": "text/x-python",
   "name": "python",
   "nbconvert_exporter": "python",
   "pygments_lexer": "ipython3",
   "version": "3.8.8"
  }
 },
 "nbformat": 4,
 "nbformat_minor": 5
}
