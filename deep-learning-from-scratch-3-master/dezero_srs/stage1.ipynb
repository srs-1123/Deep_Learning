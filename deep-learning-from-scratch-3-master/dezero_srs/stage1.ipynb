{
 "cells": [
  {
   "cell_type": "code",
   "execution_count": 1,
   "id": "c3ea2e69",
   "metadata": {},
   "outputs": [],
   "source": [
    "import numpy as np"
   ]
  },
  {
   "cell_type": "code",
   "execution_count": 2,
   "id": "1709917d",
   "metadata": {},
   "outputs": [],
   "source": [
    "class Variable:\n",
    "    \"\"\"ステップ１のVariableクラスを変更\"\"\"\n",
    "    def __init__(self, data):\n",
    "        if data is not None: # dataがNoneでなく\n",
    "            if not isinstance(data, np.ndarray): # ndarrayインスタンスでもない場合\n",
    "                raise TypeError(\"{} is not supported\".formatf(type(data)))\n",
    "        self.data = data\n",
    "        self.grad = None\n",
    "        self.creator = None # 変数視点では関数は生みの親（creator）\n",
    "    \n",
    "    def set_creator(self, func):\n",
    "        \"\"\"creatorを設定\"\"\"\n",
    "        self.creator = func \n",
    "\n",
    "    def backward(self):\n",
    "        if self.grad is None:\n",
    "            self.grad = np.ones_like(self.data) # 逆伝播の最初の勾配1を生成\n",
    "            \n",
    "        funcs = [self.creator]\n",
    "        while funcs:\n",
    "            f = funcs.pop() # 1.関数を取得\n",
    "            x, y = f.input, f.output # 2.関数の入出力を取得\n",
    "            x.grad = f.backward(y.grad)\n",
    "            \n",
    "            if x.creator is  not None:\n",
    "                funcs.append(x.creator) # 4.自分より一つ前の変数のbackwardメソッドをリストに追加"
   ]
  },
  {
   "cell_type": "code",
   "execution_count": 3,
   "id": "036ea276",
   "metadata": {},
   "outputs": [],
   "source": [
    "class Function:\n",
    "    \"\"\"\n",
    "    ステップ２のFunctionクラスを変更\n",
    "    新たに\n",
    "    ・微分を行う逆伝播の機能\n",
    "    ・forwardメソッドを呼ぶ際に，入力されたVariableインスタンスを保持する機能\n",
    "    \"\"\"\n",
    "    def __call__(self, input):# f=Function()としたとき，f(...)と書くことでメソッドを呼び出せる\n",
    "        x = input.data # データを取り出す\n",
    "        y = self.forward(x) # 実際の計算\n",
    "        output = Variable(as_array(y)) # ndarrayとして返す\n",
    "        output.set_creator(self) # 出力変数に生みの親を覚えさせる\n",
    "        self.input = input # 入力された変数を覚える\n",
    "        self.output = output # 出力も覚える\n",
    "        return output\n",
    "    \n",
    "    def forward(self, x):\n",
    "        raise NotImplementedError() # このメソッドは継承して実装すべきことをアピール\n",
    "    \n",
    "    def backward(self, gy):\n",
    "        raise NotImplementedError() "
   ]
  },
  {
   "cell_type": "code",
   "execution_count": 4,
   "id": "ad5af3b3",
   "metadata": {},
   "outputs": [],
   "source": [
    "class Square(Function):\n",
    "    \"\"\"backwardメソッドを追加\"\"\"\n",
    "    def forward(self, x):\n",
    "        return x ** 2\n",
    "    \n",
    "    def backward(self, gy):\n",
    "        x = self.input.data\n",
    "        gx = 2 * x * gy\n",
    "        return gx\n",
    "    \n",
    "# ステップ３　関数の連結\n",
    "\n",
    "class Exp(Function):\n",
    "    \"\"\"backwardメソッドを追加\"\"\"\n",
    "    def forward(self, x):\n",
    "        return np.exp(x)\n",
    "    \n",
    "    def backward(self, gy):\n",
    "        x = self.input.data\n",
    "        gx = np.exp(x) * gy\n",
    "        return gx"
   ]
  },
  {
   "cell_type": "markdown",
   "id": "f4776a44",
   "metadata": {},
   "source": [
    "# 9.1 Pythonの関数として利用"
   ]
  },
  {
   "cell_type": "code",
   "execution_count": 11,
   "id": "dc421514",
   "metadata": {},
   "outputs": [],
   "source": [
    "def square(x):\n",
    "    return Square()(x)\n",
    "def exp(x):\n",
    "    return Exp()(x)"
   ]
  },
  {
   "cell_type": "markdown",
   "id": "8a8955dc",
   "metadata": {},
   "source": [
    "# 9.2 backwardメソッドの簡略化"
   ]
  },
  {
   "cell_type": "code",
   "execution_count": 12,
   "id": "7422ac91",
   "metadata": {},
   "outputs": [
    {
     "name": "stdout",
     "output_type": "stream",
     "text": [
      "3.297442541400256\n"
     ]
    }
   ],
   "source": [
    "x = Variable(np.array(0.5))\n",
    "y = square(exp(square(x)))\n",
    "y.backward()\n",
    "print(x.grad)"
   ]
  },
  {
   "cell_type": "code",
   "execution_count": 13,
   "id": "4cbe06e6",
   "metadata": {},
   "outputs": [],
   "source": [
    "def as_array(x):\n",
    "    if np.isscalar(x):\n",
    "        return np.array(x)\n",
    "    return x"
   ]
  },
  {
   "cell_type": "markdown",
   "id": "512e849b",
   "metadata": {},
   "source": [
    "# 10.1 Pythonのユニットテスト"
   ]
  },
  {
   "cell_type": "code",
   "execution_count": 16,
   "id": "db951c6c",
   "metadata": {},
   "outputs": [],
   "source": [
    "import unittest\n",
    "\n",
    "class SquareTest(unittest.TestCase):\n",
    "    def test_forward(self):\n",
    "        x = Variable(np.array(2.0))\n",
    "        y = square(x)\n",
    "        expected = np.array(4.0)\n",
    "        self.assertEqual(y.data, expected)\n",
    "    def test_backward(self):\n",
    "        x = Variable(np.array(3.0))\n",
    "        y = square(x)\n",
    "        y.backward()\n",
    "        expected = np.array(6.0)\n",
    "        self.assertEqual(x.grad, expected)\n",
    "    def test_gradient_check(self):\n",
    "        x = Variable(np.random.rand(1))\n",
    "        y = square(x)\n",
    "        y.backward()\n",
    "        num_grad = numerical_diff(square, x)\n",
    "        flg = np.allclose(x.grad, num_grad) # a, bが近い値かどうか判定\n",
    "        self.assertTrue(flg)"
   ]
  },
  {
   "cell_type": "markdown",
   "id": "70309b22",
   "metadata": {},
   "source": [
    "# 勾配確認で用いる数値微分"
   ]
  },
  {
   "cell_type": "code",
   "execution_count": 15,
   "id": "a00e98c6",
   "metadata": {},
   "outputs": [],
   "source": [
    "def numerical_diff(f, x, eps=1e-4):\n",
    "    x0 = Variable(x.data - eps)\n",
    "    x1 = Variable(x.data + eps)\n",
    "    y0 = f(x0)\n",
    "    y1 = f(x1)\n",
    "    return (y1.data - y0.data) / (2 * eps)"
   ]
  },
  {
   "cell_type": "code",
   "execution_count": null,
   "id": "4f3fa48a",
   "metadata": {},
   "outputs": [],
   "source": []
  }
 ],
 "metadata": {
  "kernelspec": {
   "display_name": "Python 3",
   "language": "python",
   "name": "python3"
  },
  "language_info": {
   "codemirror_mode": {
    "name": "ipython",
    "version": 3
   },
   "file_extension": ".py",
   "mimetype": "text/x-python",
   "name": "python",
   "nbconvert_exporter": "python",
   "pygments_lexer": "ipython3",
   "version": "3.8.8"
  }
 },
 "nbformat": 4,
 "nbformat_minor": 5
}
